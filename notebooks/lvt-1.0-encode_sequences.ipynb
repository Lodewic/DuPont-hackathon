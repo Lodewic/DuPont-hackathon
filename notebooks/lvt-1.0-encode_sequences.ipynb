{
 "cells": [
  {
   "cell_type": "markdown",
   "metadata": {},
   "source": [
    "### we need tensorflow and keras at least"
   ]
  },
  {
   "cell_type": "code",
   "execution_count": null,
   "metadata": {},
   "outputs": [],
   "source": [
    "# !pip install tensorflow\n",
    "# !pip install keras"
   ]
  },
  {
   "cell_type": "code",
   "execution_count": 8,
   "metadata": {},
   "outputs": [],
   "source": [
    "import pandas as pd\n",
    "import numpy as np\n",
    "import sys\n",
    "sys.path.append(\"../\")\n",
    "\n",
    "from src.enzyme_hackathon.utils import (one_hot_dict, one_hot_encode, one_hot_encode_screening_data,\n",
    "                                        one_hot_encode_sequences)\n",
    "from src.enzyme_hackathon.utils import AA_LABELS"
   ]
  },
  {
   "cell_type": "code",
   "execution_count": 5,
   "metadata": {
    "scrolled": true
   },
   "outputs": [
    {
     "name": "stdout",
     "output_type": "stream",
     "text": [
      "        Unnamed: 0  performance    stability  productivity      fitness\n",
      "count  7000.000000  6896.000000  6878.000000   7000.000000  6878.000000\n",
      "mean   4010.524714     0.984543     0.781275      1.215665     0.898539\n",
      "std    2299.783102     0.283531     0.324650      0.462164     0.491000\n",
      "min       0.000000     0.000000     0.000000      0.000000     0.000000\n",
      "25%    2026.750000     0.911732     0.499931      0.992109     0.494338\n",
      "50%    4000.500000     0.997816     0.841235      1.016482     0.891317\n",
      "75%    5999.250000     1.169030     1.000279      1.501715     1.266698\n",
      "max    7999.000000     2.253050     2.493611      3.035927     1.940561         Unnamed: 0  performance    stability  productivity      fitness\n",
      "count  9906.000000  9838.000000  9719.000000   9906.000000  9906.000000\n",
      "mean   5001.255704     1.077744     1.093033      1.173327     1.330397\n",
      "std    2884.806712     0.331799     0.317386      0.356221     0.515413\n",
      "min       1.000000     0.000000     0.000000      0.000000     0.000000\n",
      "25%    2503.250000     0.979577     0.981840      0.984759     0.995742\n",
      "50%    5001.500000     1.004226     1.008424      1.014753     1.392143\n",
      "75%    7498.750000     1.031376     1.045084      1.466514     1.650875\n",
      "max    9999.000000     2.091435     2.096095      2.138840     2.496123         Unnamed: 0  productivity  performance    stability      fitness\n",
      "count  8000.000000   8000.000000  6730.000000  5336.000000  5336.000000\n",
      "mean   4505.748125      1.733945     0.846407     1.425351     1.240450\n",
      "std    2599.446978      2.100859     1.627194     1.783363     1.894834\n",
      "min       0.000000      0.000000     0.000000     0.000000     0.000000\n",
      "25%    2256.750000      0.043985     0.014479     0.712580     0.007385\n",
      "50%    4505.500000      0.890866     0.098402     0.981191     0.161588\n",
      "75%    6763.250000      4.023183     0.945701     1.068888     1.227807\n",
      "max    8999.000000      6.948362     7.280907     7.596844     6.975504\n"
     ]
    }
   ],
   "source": [
    "regression_df = pd.read_csv(\"../data/raw/challenge-0.csv\")\n",
    "df1 = pd.read_csv(\"../data/raw/challenge-1.csv\")\n",
    "df2 = pd.read_csv(\"../data/raw/challenge-2.csv\")\n",
    "print(regression_df.describe(), df1.describe(), df2.describe())"
   ]
  },
  {
   "cell_type": "code",
   "execution_count": 40,
   "metadata": {},
   "outputs": [],
   "source": [
    "from collections import OrderedDict\n",
    "encoded_split_dict = one_hot_encode_screening_data(regression_df)\n",
    "x_train, x_test = (encoded_split_dict['x'][0], encoded_split_dict['x'][1])\n",
    "y_keys = encoded_split_dict['y'].keys()\n",
    "\n",
    "y_train, y_test = (OrderedDict(), OrderedDict())\n",
    "for y_key in y_keys:\n",
    "    y_train[y_key], y_test[y_key] = (encoded_split_dict['y'][y_key]['data'][0], encoded_split_dict['y'][y_key]['data'][1])"
   ]
  },
  {
   "cell_type": "markdown",
   "metadata": {},
   "source": [
    "## Regression for the challenge 0"
   ]
  },
  {
   "cell_type": "code",
   "execution_count": null,
   "metadata": {
    "scrolled": true
   },
   "outputs": [],
   "source": [
    "regression_df[regression_df['performance'].notna()]['performance'].plot.hist()"
   ]
  },
  {
   "cell_type": "code",
   "execution_count": null,
   "metadata": {
    "scrolled": true
   },
   "outputs": [],
   "source": [
    "regression_df.head()"
   ]
  },
  {
   "cell_type": "code",
   "execution_count": null,
   "metadata": {
    "scrolled": true
   },
   "outputs": [],
   "source": [
    "import string\n",
    "def string_vectorizer(sequence, alphabet=string.ascii_uppercase):\n",
    "    vector = [[0 if char != letter else 1 for char in alphabet] \n",
    "                  for letter in sequence.upper()]\n",
    "    return vector\n",
    "\n",
    "regression_df['encoded_sequence'] = df0['sequence'].map(string_vectorizer)\n",
    "regression_df.head()"
   ]
  },
  {
   "cell_type": "code",
   "execution_count": null,
   "metadata": {},
   "outputs": [],
   "source": [
    "regression_df['sequence_length'] = regression_df['sequence'].map(len)\n",
    "regression_df.head()"
   ]
  },
  {
   "cell_type": "code",
   "execution_count": null,
   "metadata": {},
   "outputs": [],
   "source": []
  }
 ],
 "metadata": {
  "kernelspec": {
   "display_name": "Python [conda env:dupont]",
   "language": "python",
   "name": "conda-env-dupont-py"
  },
  "language_info": {
   "codemirror_mode": {
    "name": "ipython",
    "version": 3
   },
   "file_extension": ".py",
   "mimetype": "text/x-python",
   "name": "python",
   "nbconvert_exporter": "python",
   "pygments_lexer": "ipython3",
   "version": "3.7.0"
  }
 },
 "nbformat": 4,
 "nbformat_minor": 2
}
