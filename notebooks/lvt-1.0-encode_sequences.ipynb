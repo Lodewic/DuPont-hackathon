{
 "cells": [
  {
   "cell_type": "markdown",
   "metadata": {},
   "source": [
    "### we need tensorflow and keras at least"
   ]
  },
  {
   "cell_type": "code",
   "execution_count": 1,
   "metadata": {},
   "outputs": [],
   "source": [
    "# !pip install tensorflow\n",
    "# !pip install keras"
   ]
  },
  {
   "cell_type": "code",
   "execution_count": 2,
   "metadata": {},
   "outputs": [
    {
     "name": "stderr",
     "output_type": "stream",
     "text": [
      "Using TensorFlow backend.\n"
     ]
    }
   ],
   "source": [
    "import pandas as pd\n",
    "import numpy as np\n",
    "import sys\n",
    "sys.path.append(\"../\")\n",
    "\n",
    "from src.enzyme_hackathon.utils import (one_hot_dict, one_hot_encode, one_hot_encode_screening_data,\n",
    "                                        one_hot_encode_sequences)\n",
    "from src.enzyme_hackathon.utils import AA_LABELS"
   ]
  },
  {
   "cell_type": "code",
   "execution_count": 3,
   "metadata": {},
   "outputs": [],
   "source": [
    "from src.enzyme_hackathon.utils import (create_fc_model, predict, generate_variant, r_squared, nan_mse)"
   ]
  },
  {
   "cell_type": "code",
   "execution_count": 4,
   "metadata": {
    "scrolled": true
   },
   "outputs": [
    {
     "name": "stdout",
     "output_type": "stream",
     "text": [
      "        Unnamed: 0  performance    stability  productivity      fitness\n",
      "count  7000.000000  6896.000000  6878.000000   7000.000000  6878.000000\n",
      "mean   4010.524714     0.984543     0.781275      1.215665     0.898539\n",
      "std    2299.783102     0.283531     0.324650      0.462164     0.491000\n",
      "min       0.000000     0.000000     0.000000      0.000000     0.000000\n",
      "25%    2026.750000     0.911732     0.499931      0.992109     0.494338\n",
      "50%    4000.500000     0.997816     0.841235      1.016482     0.891317\n",
      "75%    5999.250000     1.169030     1.000279      1.501715     1.266698\n",
      "max    7999.000000     2.253050     2.493611      3.035927     1.940561         Unnamed: 0  performance    stability  productivity      fitness\n",
      "count  9906.000000  9838.000000  9719.000000   9906.000000  9906.000000\n",
      "mean   5001.255704     1.077744     1.093033      1.173327     1.330397\n",
      "std    2884.806712     0.331799     0.317386      0.356221     0.515413\n",
      "min       1.000000     0.000000     0.000000      0.000000     0.000000\n",
      "25%    2503.250000     0.979577     0.981840      0.984759     0.995742\n",
      "50%    5001.500000     1.004226     1.008424      1.014753     1.392143\n",
      "75%    7498.750000     1.031376     1.045084      1.466514     1.650875\n",
      "max    9999.000000     2.091435     2.096095      2.138840     2.496123         Unnamed: 0  productivity  performance    stability      fitness\n",
      "count  8000.000000   8000.000000  6730.000000  5336.000000  5336.000000\n",
      "mean   4505.748125      1.733945     0.846407     1.425351     1.240450\n",
      "std    2599.446978      2.100859     1.627194     1.783363     1.894834\n",
      "min       0.000000      0.000000     0.000000     0.000000     0.000000\n",
      "25%    2256.750000      0.043985     0.014479     0.712580     0.007385\n",
      "50%    4505.500000      0.890866     0.098402     0.981191     0.161588\n",
      "75%    6763.250000      4.023183     0.945701     1.068888     1.227807\n",
      "max    8999.000000      6.948362     7.280907     7.596844     6.975504\n"
     ]
    }
   ],
   "source": [
    "regression_df = pd.read_csv(\"../data/raw/challenge-0.csv\")\n",
    "df1 = pd.read_csv(\"../data/raw/challenge-1.csv\")\n",
    "df2 = pd.read_csv(\"../data/raw/challenge-2.csv\")\n",
    "print(regression_df.describe(), df1.describe(), df2.describe())"
   ]
  },
  {
   "cell_type": "code",
   "execution_count": 5,
   "metadata": {},
   "outputs": [],
   "source": [
    "from collections import OrderedDict\n",
    "encoded_split_dict = one_hot_encode_screening_data(regression_df)\n",
    "x_train, x_test = (encoded_split_dict['x'][0], encoded_split_dict['x'][1])\n",
    "y_keys = [key for key in encoded_split_dict['y'].keys()]\n",
    "\n",
    "y_train, y_test = (OrderedDict(), OrderedDict())\n",
    "for y_key in y_keys:\n",
    "    y_train[y_key], y_test[y_key] = (encoded_split_dict['y'][y_key]['data'][0], encoded_split_dict['y'][y_key]['data'][1])"
   ]
  },
  {
   "cell_type": "markdown",
   "metadata": {},
   "source": [
    "## Regression for the challenge 0"
   ]
  },
  {
   "cell_type": "code",
   "execution_count": 6,
   "metadata": {},
   "outputs": [],
   "source": [
    "import keras\n"
   ]
  },
  {
   "cell_type": "code",
   "execution_count": 40,
   "metadata": {},
   "outputs": [],
   "source": [
    "from keras import backend as K\n",
    "from keras import Model\n",
    "from keras.layers import Input, Dense, Flatten, Dropout, BatchNormalization\n",
    "from keras.optimizers import Adam\n",
    "from keras.regularizers import l2\n",
    "\n",
    "def create_fc_model(data: dict):\n",
    "    \"\"\"Create a multi-task fully connected neural network model\n",
    "\n",
    "    :param data:\n",
    "    :return:\n",
    "    \"\"\"\n",
    "    sequence_input = Input(shape=data['x'][0][0].shape, name='sequence')\n",
    "    sequence = Flatten()(sequence_input)\n",
    "\n",
    "    sequence = Dense(50, activation='relu', kernel_regularizer=l2(1.1))(sequence)\n",
    "    sequence = Dropout(.1)(sequence)\n",
    "    \n",
    "#     sequence = Dense(50, activation='relu', kernel_regularizer=l2(1.1))(sequence)\n",
    "#     sequence = Dropout(.1)(sequence)\n",
    "\n",
    "    outputs = []\n",
    "    for task, _ in data['y'].items():\n",
    "        t = Dense(20, activation='relu', kernel_regularizer=l2(1.1))(sequence)\n",
    "        t = Dropout(.1)(t)\n",
    "        t = BatchNormalization()(t)\n",
    "        outputs.append(Dense(1, name=task)(t))\n",
    "\n",
    "    model = Model(inputs=[sequence_input], outputs=outputs)\n",
    "    model.compile(loss=nan_mse, \n",
    "                  optimizer=Adam(lr=0.0001),\n",
    "                  metrics=[r_squared])\n",
    "    return model"
   ]
  },
  {
   "cell_type": "code",
   "execution_count": 41,
   "metadata": {},
   "outputs": [],
   "source": [
    "fc_nn = create_fc_model(encoded_split_dict)\n",
    "# for key in y_test.keys():\n",
    "#     y_train_tuples = [(x.tolist()[0], y.tolist()[0], z.tolist()[0]) for x, y, z in zip(y_train[y_keys[0]], y_train[y_keys[1]], y_train[y_keys[2]])]"
   ]
  },
  {
   "cell_type": "code",
   "execution_count": 42,
   "metadata": {},
   "outputs": [],
   "source": [
    "import keras\n",
    "fcCallbacks = keras.callbacks.TensorBoard(log_dir='../logs', \n",
    "                                          histogram_freq=0,\n",
    "                                          write_graph=True, \n",
    "                                          write_images=True)"
   ]
  },
  {
   "cell_type": "code",
   "execution_count": 43,
   "metadata": {
    "scrolled": true
   },
   "outputs": [
    {
     "name": "stdout",
     "output_type": "stream",
     "text": [
      "Epoch 1/50\n",
      "5250/5250 [==============================] - 3s 580us/step - loss: 149.7590 - productivity_loss: 1.3864 - performance_loss: 1.3884 - stability_loss: 1.1166 - productivity_r_squared: 0.0263 - performance_r_squared: 0.0129 - stability_r_squared: 0.0656\n",
      "Epoch 2/50\n",
      "5250/5250 [==============================] - 2s 299us/step - loss: 90.6554 - productivity_loss: 0.7387 - performance_loss: 0.7418 - stability_loss: 0.6313 - productivity_r_squared: 0.2513 - performance_r_squared: 0.2277 - stability_r_squared: 0.3437\n",
      "Epoch 3/50\n",
      "5250/5250 [==============================] - 2s 288us/step - loss: 69.5729 - productivity_loss: 0.5638 - performance_loss: 0.5359 - stability_loss: 0.4561 - productivity_r_squared: 0.4091 - performance_r_squared: 0.4283 - stability_r_squared: 0.5188\n",
      "Epoch 4/50\n",
      "5250/5250 [==============================] - 1s 283us/step - loss: 57.4487 - productivity_loss: 0.4707 - performance_loss: 0.4424 - stability_loss: 0.3704 - productivity_r_squared: 0.5004 - performance_r_squared: 0.5240 - stability_r_squared: 0.6028\n",
      "Epoch 5/50\n",
      "5250/5250 [==============================] - 2s 311us/step - loss: 47.9430 - productivity_loss: 0.4020 - performance_loss: 0.3566 - stability_loss: 0.3062 - productivity_r_squared: 0.5723 - performance_r_squared: 0.6095 - stability_r_squared: 0.6724\n",
      "Epoch 6/50\n",
      "5250/5250 [==============================] - 2s 291us/step - loss: 40.0042 - productivity_loss: 0.3774 - performance_loss: 0.3088 - stability_loss: 0.2719 - productivity_r_squared: 0.6073 - performance_r_squared: 0.6698 - stability_r_squared: 0.7116\n",
      "Epoch 7/50\n",
      "5250/5250 [==============================] - 2s 312us/step - loss: 33.2840 - productivity_loss: 0.3507 - performance_loss: 0.2940 - stability_loss: 0.2522 - productivity_r_squared: 0.6312 - performance_r_squared: 0.6797 - stability_r_squared: 0.7297\n",
      "Epoch 8/50\n",
      "5250/5250 [==============================] - 2s 360us/step - loss: 27.5800 - productivity_loss: 0.3380 - performance_loss: 0.2721 - stability_loss: 0.2323 - productivity_r_squared: 0.6442 - performance_r_squared: 0.7082 - stability_r_squared: 0.7474\n",
      "Epoch 9/50\n",
      "5250/5250 [==============================] - 2s 330us/step - loss: 22.7693 - productivity_loss: 0.3201 - performance_loss: 0.2628 - stability_loss: 0.2275 - productivity_r_squared: 0.6693 - performance_r_squared: 0.7163 - stability_r_squared: 0.7587\n",
      "Epoch 10/50\n",
      "5250/5250 [==============================] - 2s 288us/step - loss: 18.7139 - productivity_loss: 0.3148 - performance_loss: 0.2529 - stability_loss: 0.2169 - productivity_r_squared: 0.6702 - performance_r_squared: 0.7249 - stability_r_squared: 0.7698\n",
      "Epoch 11/50\n",
      "5250/5250 [==============================] - 1s 282us/step - loss: 15.3052 - productivity_loss: 0.3048 - performance_loss: 0.2443 - stability_loss: 0.2083 - productivity_r_squared: 0.6811 - performance_r_squared: 0.7353 - stability_r_squared: 0.7770\n",
      "Epoch 12/50\n",
      "5250/5250 [==============================] - 1s 274us/step - loss: 12.4779 - productivity_loss: 0.3031 - performance_loss: 0.2399 - stability_loss: 0.2055 - productivity_r_squared: 0.6811 - performance_r_squared: 0.7375 - stability_r_squared: 0.7826\n",
      "Epoch 13/50\n",
      "5250/5250 [==============================] - 2s 301us/step - loss: 10.0950 - productivity_loss: 0.2915 - performance_loss: 0.2192 - stability_loss: 0.1904 - productivity_r_squared: 0.6902 - performance_r_squared: 0.7652 - stability_r_squared: 0.7964\n",
      "Epoch 14/50\n",
      "5250/5250 [==============================] - 1s 268us/step - loss: 8.1859 - productivity_loss: 0.2915 - performance_loss: 0.2206 - stability_loss: 0.1998 - productivity_r_squared: 0.6947 - performance_r_squared: 0.7608 - stability_r_squared: 0.7868\n",
      "Epoch 15/50\n",
      "5250/5250 [==============================] - 1s 268us/step - loss: 6.6041 - productivity_loss: 0.2870 - performance_loss: 0.2175 - stability_loss: 0.1894 - productivity_r_squared: 0.6975 - performance_r_squared: 0.7626 - stability_r_squared: 0.7985\n",
      "Epoch 16/50\n",
      "5250/5250 [==============================] - 2s 297us/step - loss: 5.3256 - productivity_loss: 0.2837 - performance_loss: 0.2070 - stability_loss: 0.1946 - productivity_r_squared: 0.7080 - performance_r_squared: 0.7778 - stability_r_squared: 0.7911\n",
      "Epoch 17/50\n",
      "5250/5250 [==============================] - 1s 285us/step - loss: 4.2923 - productivity_loss: 0.2804 - performance_loss: 0.2050 - stability_loss: 0.1768 - productivity_r_squared: 0.7052 - performance_r_squared: 0.7818 - stability_r_squared: 0.8096\n",
      "Epoch 18/50\n",
      "5250/5250 [==============================] - 1s 285us/step - loss: 3.5017 - productivity_loss: 0.2841 - performance_loss: 0.2084 - stability_loss: 0.1797 - productivity_r_squared: 0.7022 - performance_r_squared: 0.7737 - stability_r_squared: 0.8102\n",
      "Epoch 19/50\n",
      "5250/5250 [==============================] - 1s 285us/step - loss: 2.8741 - productivity_loss: 0.2754 - performance_loss: 0.2101 - stability_loss: 0.1833 - productivity_r_squared: 0.7100 - performance_r_squared: 0.7693 - stability_r_squared: 0.8072\n",
      "Epoch 20/50\n",
      "5250/5250 [==============================] - 2s 320us/step - loss: 2.3792 - productivity_loss: 0.2816 - performance_loss: 0.2026 - stability_loss: 0.1760 - productivity_r_squared: 0.7072 - performance_r_squared: 0.7826 - stability_r_squared: 0.8175\n",
      "Epoch 21/50\n",
      "5250/5250 [==============================] - 2s 290us/step - loss: 2.0073 - productivity_loss: 0.2691 - performance_loss: 0.1970 - stability_loss: 0.1889 - productivity_r_squared: 0.7217 - performance_r_squared: 0.7885 - stability_r_squared: 0.8011\n",
      "Epoch 22/50\n",
      "5250/5250 [==============================] - 2s 291us/step - loss: 1.7126 - productivity_loss: 0.2716 - performance_loss: 0.1947 - stability_loss: 0.1693 - productivity_r_squared: 0.7176 - performance_r_squared: 0.7867 - stability_r_squared: 0.8203\n",
      "Epoch 23/50\n",
      "5250/5250 [==============================] - 2s 288us/step - loss: 1.5143 - productivity_loss: 0.2623 - performance_loss: 0.1978 - stability_loss: 0.1797 - productivity_r_squared: 0.7239 - performance_r_squared: 0.7880 - stability_r_squared: 0.8112\n",
      "Epoch 24/50\n",
      "5250/5250 [==============================] - 2s 287us/step - loss: 1.3623 - productivity_loss: 0.2715 - performance_loss: 0.1903 - stability_loss: 0.1721 - productivity_r_squared: 0.7179 - performance_r_squared: 0.7957 - stability_r_squared: 0.8187\n",
      "Epoch 25/50\n",
      "5250/5250 [==============================] - 2s 294us/step - loss: 1.2594 - productivity_loss: 0.2690 - performance_loss: 0.1889 - stability_loss: 0.1779 - productivity_r_squared: 0.7190 - performance_r_squared: 0.7964 - stability_r_squared: 0.8107\n",
      "Epoch 26/50\n",
      "5250/5250 [==============================] - 2s 289us/step - loss: 1.1598 - productivity_loss: 0.2604 - performance_loss: 0.1845 - stability_loss: 0.1660 - productivity_r_squared: 0.7300 - performance_r_squared: 0.8004 - stability_r_squared: 0.8233\n",
      "Epoch 27/50\n",
      "5250/5250 [==============================] - 2s 288us/step - loss: 1.1101 - productivity_loss: 0.2540 - performance_loss: 0.1855 - stability_loss: 0.1728 - productivity_r_squared: 0.7298 - performance_r_squared: 0.7969 - stability_r_squared: 0.8166\n",
      "Epoch 28/50\n",
      "5250/5250 [==============================] - 2s 290us/step - loss: 1.0458 - productivity_loss: 0.2550 - performance_loss: 0.1699 - stability_loss: 0.1615 - productivity_r_squared: 0.7371 - performance_r_squared: 0.8140 - stability_r_squared: 0.8303\n",
      "Epoch 29/50\n",
      "5250/5250 [==============================] - 2s 298us/step - loss: 1.0495 - productivity_loss: 0.2650 - performance_loss: 0.1884 - stability_loss: 0.1609 - productivity_r_squared: 0.7203 - performance_r_squared: 0.7960 - stability_r_squared: 0.8314\n",
      "Epoch 30/50\n",
      "5250/5250 [==============================] - 1s 285us/step - loss: 1.0115 - productivity_loss: 0.2520 - performance_loss: 0.1759 - stability_loss: 0.1680 - productivity_r_squared: 0.7365 - performance_r_squared: 0.8076 - stability_r_squared: 0.8229\n",
      "Epoch 31/50\n",
      "5250/5250 [==============================] - 2s 288us/step - loss: 1.0075 - productivity_loss: 0.2546 - performance_loss: 0.1894 - stability_loss: 0.1612 - productivity_r_squared: 0.7365 - performance_r_squared: 0.7899 - stability_r_squared: 0.8299\n",
      "Epoch 32/50\n",
      "5250/5250 [==============================] - 2s 287us/step - loss: 0.9891 - productivity_loss: 0.2453 - performance_loss: 0.1833 - stability_loss: 0.1698 - productivity_r_squared: 0.7436 - performance_r_squared: 0.8045 - stability_r_squared: 0.8157\n",
      "Epoch 33/50\n",
      "5250/5250 [==============================] - 2s 296us/step - loss: 0.9663 - productivity_loss: 0.2398 - performance_loss: 0.1834 - stability_loss: 0.1616 - productivity_r_squared: 0.7524 - performance_r_squared: 0.8013 - stability_r_squared: 0.8281\n",
      "Epoch 34/50\n",
      "5250/5250 [==============================] - 2s 301us/step - loss: 0.9612 - productivity_loss: 0.2542 - performance_loss: 0.1789 - stability_loss: 0.1564 - productivity_r_squared: 0.7326 - performance_r_squared: 0.8045 - stability_r_squared: 0.8307\n",
      "Epoch 35/50\n",
      "5250/5250 [==============================] - 2s 311us/step - loss: 0.9421 - productivity_loss: 0.2413 - performance_loss: 0.1788 - stability_loss: 0.1560 - productivity_r_squared: 0.7468 - performance_r_squared: 0.8079 - stability_r_squared: 0.8346\n",
      "Epoch 36/50\n",
      "5250/5250 [==============================] - 2s 288us/step - loss: 0.9422 - productivity_loss: 0.2443 - performance_loss: 0.1786 - stability_loss: 0.1604 - productivity_r_squared: 0.7464 - performance_r_squared: 0.8058 - stability_r_squared: 0.8291\n",
      "Epoch 37/50\n",
      "5250/5250 [==============================] - 2s 295us/step - loss: 0.9306 - productivity_loss: 0.2399 - performance_loss: 0.1790 - stability_loss: 0.1596 - productivity_r_squared: 0.7492 - performance_r_squared: 0.8036 - stability_r_squared: 0.8309\n",
      "Epoch 38/50\n",
      "5250/5250 [==============================] - 1s 281us/step - loss: 0.9018 - productivity_loss: 0.2469 - performance_loss: 0.1641 - stability_loss: 0.1467 - productivity_r_squared: 0.7386 - performance_r_squared: 0.8174 - stability_r_squared: 0.8442\n",
      "Epoch 39/50\n",
      "5250/5250 [==============================] - 2s 299us/step - loss: 0.8899 - productivity_loss: 0.2432 - performance_loss: 0.1601 - stability_loss: 0.1448 - productivity_r_squared: 0.7462 - performance_r_squared: 0.8256 - stability_r_squared: 0.8479\n",
      "Epoch 40/50\n",
      "5250/5250 [==============================] - 2s 290us/step - loss: 0.9270 - productivity_loss: 0.2466 - performance_loss: 0.1860 - stability_loss: 0.1522 - productivity_r_squared: 0.7447 - performance_r_squared: 0.7931 - stability_r_squared: 0.8384\n",
      "Epoch 41/50\n",
      "5250/5250 [==============================] - 1s 284us/step - loss: 0.8886 - productivity_loss: 0.2361 - performance_loss: 0.1685 - stability_loss: 0.1494 - productivity_r_squared: 0.7587 - performance_r_squared: 0.8158 - stability_r_squared: 0.8420\n",
      "Epoch 42/50\n",
      "5250/5250 [==============================] - 2s 293us/step - loss: 0.8890 - productivity_loss: 0.2291 - performance_loss: 0.1756 - stability_loss: 0.1560 - productivity_r_squared: 0.7632 - performance_r_squared: 0.8085 - stability_r_squared: 0.8324\n",
      "Epoch 43/50\n",
      "5250/5250 [==============================] - 2s 289us/step - loss: 0.8946 - productivity_loss: 0.2442 - performance_loss: 0.1810 - stability_loss: 0.1456 - productivity_r_squared: 0.7453 - performance_r_squared: 0.7998 - stability_r_squared: 0.8456\n",
      "Epoch 44/50\n",
      "5250/5250 [==============================] - 2s 297us/step - loss: 0.9020 - productivity_loss: 0.2464 - performance_loss: 0.1705 - stability_loss: 0.1601 - productivity_r_squared: 0.7443 - performance_r_squared: 0.8133 - stability_r_squared: 0.8299\n",
      "Epoch 45/50\n",
      "5250/5250 [==============================] - 2s 301us/step - loss: 0.8823 - productivity_loss: 0.2423 - performance_loss: 0.1725 - stability_loss: 0.1498 - productivity_r_squared: 0.7455 - performance_r_squared: 0.8106 - stability_r_squared: 0.8403\n",
      "Epoch 46/50\n",
      "5250/5250 [==============================] - 2s 290us/step - loss: 0.8668 - productivity_loss: 0.2374 - performance_loss: 0.1739 - stability_loss: 0.1428 - productivity_r_squared: 0.7490 - performance_r_squared: 0.8086 - stability_r_squared: 0.8501\n",
      "Epoch 47/50\n",
      "5250/5250 [==============================] - 2s 296us/step - loss: 0.8522 - productivity_loss: 0.2366 - performance_loss: 0.1674 - stability_loss: 0.1390 - productivity_r_squared: 0.7552 - performance_r_squared: 0.8173 - stability_r_squared: 0.8501\n",
      "Epoch 48/50\n",
      "5250/5250 [==============================] - 2s 296us/step - loss: 0.8921 - productivity_loss: 0.2608 - performance_loss: 0.1759 - stability_loss: 0.1462 - productivity_r_squared: 0.7255 - performance_r_squared: 0.8084 - stability_r_squared: 0.8435\n",
      "Epoch 49/50\n",
      "5250/5250 [==============================] - 2s 294us/step - loss: 0.8360 - productivity_loss: 0.2292 - performance_loss: 0.1608 - stability_loss: 0.1404 - productivity_r_squared: 0.7598 - performance_r_squared: 0.8266 - stability_r_squared: 0.8497\n",
      "Epoch 50/50\n",
      "5250/5250 [==============================] - 2s 294us/step - loss: 0.8508 - productivity_loss: 0.2329 - performance_loss: 0.1726 - stability_loss: 0.1457 - productivity_r_squared: 0.7584 - performance_r_squared: 0.8139 - stability_r_squared: 0.8501\n"
     ]
    },
    {
     "data": {
      "text/plain": [
       "<keras.callbacks.History at 0x20bd6da6a20>"
      ]
     },
     "execution_count": 43,
     "metadata": {},
     "output_type": "execute_result"
    }
   ],
   "source": [
    "fc_nn.fit(x=x_train,\n",
    "          y=[y_train['productivity'], y_train['performance'], y_train['stability']],\n",
    "         epochs=50, batch_size=32, callbacks=[fcCallbacks])"
   ]
  },
  {
   "cell_type": "code",
   "execution_count": 61,
   "metadata": {},
   "outputs": [],
   "source": [
    "fc_nn.save(\"../models/FCNN_50_ADAM.hfd5\")"
   ]
  },
  {
   "cell_type": "markdown",
   "metadata": {},
   "source": [
    "# Predictions on test set"
   ]
  },
  {
   "cell_type": "code",
   "execution_count": 48,
   "metadata": {},
   "outputs": [],
   "source": [
    "pred_productivity, pred_performance, pred_stability = fc_nn.predict(x_test)"
   ]
  },
  {
   "cell_type": "code",
   "execution_count": 55,
   "metadata": {},
   "outputs": [],
   "source": [
    "import matplotlib.pyplot as plt"
   ]
  },
  {
   "cell_type": "code",
   "execution_count": 56,
   "metadata": {},
   "outputs": [
    {
     "data": {
      "text/plain": [
       "(array([ 28.,  48.,  31., 644., 227., 226., 343.,  72., 104.,  27.]),\n",
       " array([-1.9349555 , -1.487417  , -1.0398785 , -0.59233993, -0.14480145,\n",
       "         0.30273706,  0.75027555,  1.1978141 ,  1.6453526 ,  2.092891  ,\n",
       "         2.5404296 ], dtype=float32),\n",
       " <a list of 10 Patch objects>)"
      ]
     },
     "execution_count": 56,
     "metadata": {},
     "output_type": "execute_result"
    },
    {
     "data": {
      "image/png": "[encoded data removed]",
      "text/plain": [
       "<Figure size 432x288 with 1 Axes>"
      ]
     },
     "metadata": {
      "needs_background": "light"
     },
     "output_type": "display_data"
    }
   ],
   "source": [
    "plt.hist(pred_productivity)"
   ]
  },
  {
   "cell_type": "code",
   "execution_count": 57,
   "metadata": {},
   "outputs": [
    {
     "data": {
      "text/plain": [
       "(array([ 17.,  48.,  86.,  94., 218., 777., 169., 224.,  94.,  23.]),\n",
       " array([-2.9160564 , -2.4008226 , -1.8855888 , -1.3703549 , -0.8551211 ,\n",
       "        -0.33988726,  0.17534657,  0.69058037,  1.2058142 ,  1.721048  ,\n",
       "         2.2362819 ], dtype=float32),\n",
       " <a list of 10 Patch objects>)"
      ]
     },
     "execution_count": 57,
     "metadata": {},
     "output_type": "execute_result"
    },
    {
     "data": {
      "image/png": "[encoded data removed]",
      "text/plain": [
       "<Figure size 432x288 with 1 Axes>"
      ]
     },
     "metadata": {
      "needs_background": "light"
     },
     "output_type": "display_data"
    }
   ],
   "source": [
    "plt.hist(pred_performance)"
   ]
  },
  {
   "cell_type": "code",
   "execution_count": 58,
   "metadata": {},
   "outputs": [
    {
     "data": {
      "text/plain": [
       "(array([ 31., 226., 333.,  47., 330., 631.,  42.,  34.,  73.,   3.]),\n",
       " array([-2.0245638 , -1.5600779 , -1.095592  , -0.6311061 , -0.16662017,\n",
       "         0.29786575,  0.76235163,  1.2268375 ,  1.6913235 ,  2.1558094 ,\n",
       "         2.6202953 ], dtype=float32),\n",
       " <a list of 10 Patch objects>)"
      ]
     },
     "execution_count": 58,
     "metadata": {},
     "output_type": "execute_result"
    },
    {
     "data": {
      "image/png": "[encoded data removed]",
      "text/plain": [
       "<Figure size 432x288 with 1 Axes>"
      ]
     },
     "metadata": {
      "needs_background": "light"
     },
     "output_type": "display_data"
    }
   ],
   "source": [
    "plt.hist(pred_stability)"
   ]
  },
  {
   "cell_type": "code",
   "execution_count": null,
   "metadata": {},
   "outputs": [],
   "source": []
  }
 ],
 "metadata": {
  "kernelspec": {
   "display_name": "Python [conda env:dupont]",
   "language": "python",
   "name": "conda-env-dupont-py"
  },
  "language_info": {
   "codemirror_mode": {
    "name": "ipython",
    "version": 3
   },
   "file_extension": ".py",
   "mimetype": "text/x-python",
   "name": "python",
   "nbconvert_exporter": "python",
   "pygments_lexer": "ipython3",
   "version": "3.7.0"
  }
 },
 "nbformat": 4,
 "nbformat_minor": 2
}
